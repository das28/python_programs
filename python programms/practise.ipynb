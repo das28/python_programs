{
 "cells": [
  {
   "cell_type": "code",
   "execution_count": 1,
   "metadata": {},
   "outputs": [
    {
     "name": "stdout",
     "output_type": "stream",
     "text": [
      "50\n",
      "52\n",
      "54\n",
      "56\n",
      "58\n",
      "60\n"
     ]
    }
   ],
   "source": [
    "m = int(input())\n",
    "n = int(input())\n",
    "\n",
    "while m <= n:\n",
    "    if m % 2 == 0 :\n",
    "        print(m)\n",
    "    m += 1\n",
    "# two numbers m and n , print all the even number btw them"
   ]
  },
  {
   "cell_type": "code",
   "execution_count": 3,
   "metadata": {},
   "outputs": [
    {
     "name": "stdout",
     "output_type": "stream",
     "text": [
      "hshha\n"
     ]
    }
   ],
   "source": [
    "a = input()\n",
    "res = \"\"\n",
    "for i in a:\n",
    "    res = i + res\n",
    "print(res)"
   ]
  },
  {
   "cell_type": "code",
   "execution_count": 5,
   "metadata": {},
   "outputs": [
    {
     "name": "stdout",
     "output_type": "stream",
     "text": [
      "[1, 2, 3, 4, 5, 6, 7, 8, 9, 10, 11, 12, 13, 14, 15, 16, 17, 18, 19, 20, 21, 22, 23, 24, 25, 26, 27, 28, 29, 30, 31, 32, 33, 34, 35, 36, 37, 38, 39, 40, 41, 42, 43, 44, 45, 46, 47, 48, 49, 50, 51, 52, 53, 54, 55, 56, 57, 58, 59, 60, 61, 62, 63, 64, 65, 66, 67, 68, 69, 70, 71, 72, 73, 74, 75, 76, 77, 78, 79, 80, 81, 82, 83, 84, 85, 86, 87, 88, 89, 90, 91, 92, 93, 94, 95, 96, 97, 98, 99, 100]\n"
     ]
    }
   ],
   "source": [
    "l = []\n",
    "for i in range(1,101):\n",
    "    l.append(i)\n",
    "print(l)"
   ]
  },
  {
   "cell_type": "code",
   "execution_count": null,
   "metadata": {},
   "outputs": [],
   "source": [
    " "
   ]
  },
  {
   "cell_type": "code",
   "execution_count": 1,
   "metadata": {},
   "outputs": [
    {
     "name": "stdout",
     "output_type": "stream",
     "text": [
      "31\n",
      "33\n",
      "35\n",
      "37\n",
      "39\n"
     ]
    }
   ],
   "source": [
    "m = int(input())\n",
    "n = int(input())\n",
    "\n",
    "while m <= n:\n",
    "    if m % 2 != 0:\n",
    "        print(m)\n",
    "    m += 1\n",
    "\n",
    "# two numbers m and n , print all odd number between them"
   ]
  },
  {
   "cell_type": "code",
   "execution_count": 3,
   "metadata": {},
   "outputs": [
    {
     "name": "stdout",
     "output_type": "stream",
     "text": [
      "4321\n"
     ]
    }
   ],
   "source": [
    "n = int(input())\n",
    "rev = 0\n",
    "\n",
    "while n > 0:\n",
    "    rem = n % 10\n",
    "    rev = rev * 10 + rem\n",
    "    n = n // 10\n",
    "print(rev)\n",
    "\n",
    "# print reverse of the given input"
   ]
  },
  {
   "cell_type": "code",
   "execution_count": 5,
   "metadata": {},
   "outputs": [
    {
     "name": "stdout",
     "output_type": "stream",
     "text": [
      "2\n",
      "3\n",
      "4\n",
      "5\n",
      "6\n"
     ]
    }
   ],
   "source": [
    "# print all the element in the list and print all the even numbers only\n",
    "\n",
    "arr = [2, 3, 4, 5, 6]\n",
    "\n",
    "s = 0\n",
    "e = len(arr)-1\n",
    "\n",
    "while s <= e:\n",
    "    print(arr[s])\n",
    "    s +=1 "
   ]
  },
  {
   "cell_type": "code",
   "execution_count": 6,
   "metadata": {},
   "outputs": [
    {
     "ename": "KeyboardInterrupt",
     "evalue": "",
     "output_type": "error",
     "traceback": [
      "\u001b[1;31m---------------------------------------------------------------------------\u001b[0m",
      "\u001b[1;31mKeyboardInterrupt\u001b[0m                         Traceback (most recent call last)",
      "Cell \u001b[1;32mIn[6], line 4\u001b[0m\n\u001b[0;32m      1\u001b[0m \u001b[39m# print all the numbers from 1 to 100 , which are didvisible by 5\u001b[39;00m\n\u001b[0;32m      3\u001b[0m n \u001b[39m=\u001b[39m \u001b[39m1\u001b[39m\n\u001b[1;32m----> 4\u001b[0m \u001b[39mwhile\u001b[39;00m n \u001b[39m<\u001b[39m \u001b[39m100\u001b[39m:\n\u001b[0;32m      5\u001b[0m     \u001b[39mif\u001b[39;00m n \u001b[39m%\u001b[39m \u001b[39m5\u001b[39m \u001b[39m==\u001b[39m \u001b[39m0\u001b[39m:\n\u001b[0;32m      6\u001b[0m         \u001b[39mprint\u001b[39m(n)\n",
      "\u001b[1;31mKeyboardInterrupt\u001b[0m: "
     ]
    }
   ],
   "source": [
    "# print all the numbers from 1 to 100 , which are didvisible by 5\n",
    "\n",
    "n = 1\n",
    "while n < 100:\n",
    "    if n % 5 == 0:\n",
    "        print(n)\n",
    "    n += 1\n"
   ]
  },
  {
   "cell_type": "code",
   "execution_count": 7,
   "metadata": {},
   "outputs": [
    {
     "name": "stdout",
     "output_type": "stream",
     "text": [
      "2\n",
      "4\n",
      "6\n",
      "8\n",
      "10\n"
     ]
    }
   ],
   "source": [
    "# print all even numbers from the list\n",
    "\n",
    "arr = [2,3,4,5,6,7,8,9,10]\n",
    "s = 0 \n",
    "e = len(arr)-1\n",
    "\n",
    "while s <= e:\n",
    "    if arr[s] % 2 == 0:\n",
    "        print(arr[s])\n",
    "    s += 1\n"
   ]
  },
  {
   "cell_type": "code",
   "execution_count": 7,
   "metadata": {},
   "outputs": [
    {
     "name": "stdout",
     "output_type": "stream",
     "text": [
      "This is armstrong number\n"
     ]
    }
   ],
   "source": [
    "#armstrong number\n",
    "\n",
    "n = int(input())\n",
    "res = 0\n",
    "temp = n\n",
    "l=len(str(n))\n",
    "while n > 0 :\n",
    "    rem = n % 10\n",
    "    res = res + rem ** l\n",
    "    n = n // 10\n",
    "if res == temp:\n",
    "    print(\"This is armstrong number\")\n",
    "else:\n",
    "    print(\"This is not an armstrong number\")"
   ]
  },
  {
   "cell_type": "code",
   "execution_count": null,
   "metadata": {},
   "outputs": [],
   "source": [
    "# pallindrome\n",
    "\n",
    "n = int(input())\n",
    "temp = n \n",
    "rev = 0\n",
    "\n",
    "while n > 0 :\n",
    "    rem = n % 10\n",
    "    rev = rev \n",
    "    "
   ]
  }
 ],
 "metadata": {
  "kernelspec": {
   "display_name": "Python 3.11.0 64-bit",
   "language": "python",
   "name": "python3"
  },
  "language_info": {
   "codemirror_mode": {
    "name": "ipython",
    "version": 3
   },
   "file_extension": ".py",
   "mimetype": "text/x-python",
   "name": "python",
   "nbconvert_exporter": "python",
   "pygments_lexer": "ipython3",
   "version": "3.11.0"
  },
  "orig_nbformat": 4,
  "vscode": {
   "interpreter": {
    "hash": "399f553b94cdde2871b697f5cdea4c10728502e8797efd5343586d5190736a9e"
   }
  }
 },
 "nbformat": 4,
 "nbformat_minor": 2
}
